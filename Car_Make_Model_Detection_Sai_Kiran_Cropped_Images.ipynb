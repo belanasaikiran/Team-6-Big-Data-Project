{
  "cells": [
    {
      "cell_type": "markdown",
      "metadata": {
        "id": "view-in-github",
        "colab_type": "text"
      },
      "source": [
        "<a href=\"https://colab.research.google.com/github/belanasaikiran/Team-6-Big-Data-Project/blob/main/Car_Make_Model_Detection_Sai_Kiran_Cropped_Images.ipynb\" target=\"_parent\"><img src=\"https://colab.research.google.com/assets/colab-badge.svg\" alt=\"Open In Colab\"/></a>"
      ]
    },
    {
      "cell_type": "markdown",
      "metadata": {
        "id": "PaAXM_g_gXEK"
      },
      "source": [
        "# Car Model Detection:\n",
        "\n",
        "### Team 6:"
      ]
    },
    {
      "cell_type": "markdown",
      "metadata": {
        "id": "3uEvKsqaRA77"
      },
      "source": [
        "## Todo:\n",
        "- [x] Import the DataSet.\n",
        "- [x] Preprocessing\n",
        "- [ ] Feature Selection\n",
        "- [ ] Model Selection\n",
        "- [ ] Training the Model"
      ]
    },
    {
      "cell_type": "code",
      "source": [
        "# !rm -r DataSet/ A Simple reset call to delete DataSet folder. Use it at caution"
      ],
      "metadata": {
        "id": "Clhe4owIAI-z"
      },
      "execution_count": 6,
      "outputs": []
    },
    {
      "cell_type": "code",
      "execution_count": 1,
      "metadata": {
        "colab": {
          "base_uri": "https://localhost:8080/"
        },
        "id": "sTXcmwR0REvG",
        "outputId": "596ac0f2-179c-409d-b471-5cd5ac31e2a5"
      },
      "outputs": [
        {
          "output_type": "stream",
          "name": "stdout",
          "text": [
            "Mounted at /content/gdrive\n"
          ]
        }
      ],
      "source": [
        "from google.colab import drive\n",
        "drive.mount('/content/gdrive')"
      ]
    },
    {
      "cell_type": "code",
      "execution_count": 2,
      "metadata": {
        "id": "KTEuipBbc1rR"
      },
      "outputs": [],
      "source": [
        "!unzip gdrive/MyDrive/DataSet/DataSet.zip > /dev/null # output to null"
      ]
    },
    {
      "cell_type": "markdown",
      "source": [
        "Checking if image dataset is loaded"
      ],
      "metadata": {
        "id": "Z_-Q-VBLs_xw"
      }
    },
    {
      "cell_type": "code",
      "execution_count": null,
      "metadata": {
        "id": "QDPKza5ud7kv"
      },
      "outputs": [],
      "source": [
        "import tensorflow as tf\n",
        "img = tf.keras.preprocessing.image.load_img('DataSet/images/cars_train/00001.jpg')\n",
        "img"
      ]
    },
    {
      "cell_type": "code",
      "source": [
        "print(img.width, img.height)"
      ],
      "metadata": {
        "colab": {
          "base_uri": "https://localhost:8080/"
        },
        "id": "KnPpvSJ3mccY",
        "outputId": "4a77d785-5620-43b1-bc4e-08f3dc488f41"
      },
      "execution_count": 7,
      "outputs": [
        {
          "output_type": "stream",
          "name": "stdout",
          "text": [
            "600 400\n"
          ]
        }
      ]
    },
    {
      "cell_type": "code",
      "execution_count": 8,
      "metadata": {
        "id": "cwPChQdPfwGQ"
      },
      "outputs": [],
      "source": [
        "import numpy as np\n",
        "import pandas as pd"
      ]
    },
    {
      "cell_type": "code",
      "execution_count": 9,
      "metadata": {
        "id": "p7yXq6FUIvtn"
      },
      "outputs": [],
      "source": [
        "metadata = pd.read_csv(\"DataSet/data/meta.csv\")"
      ]
    },
    {
      "cell_type": "code",
      "execution_count": 22,
      "metadata": {
        "id": "vnySNtxYI8fW",
        "colab": {
          "base_uri": "https://localhost:8080/"
        },
        "outputId": "73cff832-179b-44ec-8361-e07f770cb457"
      },
      "outputs": [
        {
          "output_type": "stream",
          "name": "stdout",
          "text": [
            "Meta Data: \n",
            "\n",
            "Head:\n",
            "   Unnamed: 0                  class_name\n",
            "0           1  AM General Hummer SUV 2000\n",
            "1           2         Acura RL Sedan 2012\n",
            "2           3         Acura TL Sedan 2012\n",
            "3           4        Acura TL Type-S 2008\n",
            "4           5        Acura TSX Sedan 2012\n",
            "\n",
            " Info:\n",
            "<class 'pandas.core.frame.DataFrame'>\n",
            "RangeIndex: 196 entries, 0 to 195\n",
            "Data columns (total 2 columns):\n",
            " #   Column      Non-Null Count  Dtype \n",
            "---  ------      --------------  ----- \n",
            " 0   Unnamed: 0  196 non-null    int64 \n",
            " 1   class_name  196 non-null    object\n",
            "dtypes: int64(1), object(1)\n",
            "memory usage: 3.2+ KB\n",
            "None\n",
            "\n",
            " Columns:\n",
            "Index(['Unnamed: 0', 'class_name'], dtype='object')\n"
          ]
        }
      ],
      "source": [
        "print(\"Meta Data: \\n\")\n",
        "print(\"Head:\")\n",
        "print(metadata.head())\n",
        "print(\"\\n Info:\")\n",
        "print(metadata.info())\n",
        "print(\"\\n Columns:\")\n",
        "print(metadata.columns)"
      ]
    },
    {
      "cell_type": "markdown",
      "source": [
        "## Load the Train & Test Datasets"
      ],
      "metadata": {
        "id": "idyYVAlP9WcY"
      }
    },
    {
      "cell_type": "markdown",
      "source": [
        "### Train Data"
      ],
      "metadata": {
        "id": "JfY7N0zhvFnq"
      }
    },
    {
      "cell_type": "code",
      "execution_count": 23,
      "metadata": {
        "id": "tsbx5WOwJH_E",
        "colab": {
          "base_uri": "https://localhost:8080/"
        },
        "outputId": "3cb28f79-058c-483f-c904-d2b97af39eda"
      },
      "outputs": [
        {
          "output_type": "stream",
          "name": "stdout",
          "text": [
            "\n",
            " Train Data: \n",
            "Head: \n",
            "\n",
            "Describe:\n",
            "         Unnamed: 0            x1            y1            x2            y2  \\\n",
            "count  12948.000000  12948.000000  12948.000000  12948.000000  12948.000000   \n",
            "mean    3451.892339     64.701189    108.592833    638.598625    416.670683   \n",
            "std     2200.262018     81.774972    106.195279    409.613163    272.818630   \n",
            "min        0.000000      1.000000      1.000000     76.000000     41.000000   \n",
            "25%     1618.000000     19.000000     42.000000    394.000000    250.000000   \n",
            "50%     3236.500000     39.000000     80.000000    572.000000    361.000000   \n",
            "75%     4906.250000     78.000000    138.000000    742.250000    475.000000   \n",
            "max     8143.000000   1648.000000   1651.000000   5205.000000   3389.000000   \n",
            "\n",
            "              class  \n",
            "count  12948.000000  \n",
            "mean      99.008573  \n",
            "std       56.540538  \n",
            "min        1.000000  \n",
            "25%       50.000000  \n",
            "50%       99.000000  \n",
            "75%      148.000000  \n",
            "max      196.000000  \n",
            "\n",
            "Info:\n",
            "<class 'pandas.core.frame.DataFrame'>\n",
            "RangeIndex: 12948 entries, 0 to 12947\n",
            "Data columns (total 7 columns):\n",
            " #   Column      Non-Null Count  Dtype \n",
            "---  ------      --------------  ----- \n",
            " 0   Unnamed: 0  12948 non-null  int64 \n",
            " 1   x1          12948 non-null  int64 \n",
            " 2   y1          12948 non-null  int64 \n",
            " 3   x2          12948 non-null  int64 \n",
            " 4   y2          12948 non-null  int64 \n",
            " 5   class       12948 non-null  int64 \n",
            " 6   fname       12948 non-null  object\n",
            "dtypes: int64(6), object(1)\n",
            "memory usage: 708.2+ KB\n",
            "None\n",
            "\n",
            "Columns:\n",
            "Index(['Unnamed: 0', 'x1', 'y1', 'x2', 'y2', 'class', 'fname'], dtype='object')\n",
            "\n",
            "Shape:\n",
            "(12948, 7)\n"
          ]
        }
      ],
      "source": [
        "train_data = pd.read_csv(\"DataSet/data/train.csv\")\n",
        "\n",
        "print(\"\\n Train Data: \\nHead: \")\n",
        "train_data.head()\n",
        "print(\"\\nDescribe:\")\n",
        "print(train_data.describe())\n",
        "print(\"\\nInfo:\")\n",
        "print(train_data.info())\n",
        "print(\"\\nColumns:\")\n",
        "print(train_data.columns)\n",
        "print(\"\\nShape:\")\n",
        "print(train_data.shape)"
      ]
    },
    {
      "cell_type": "markdown",
      "source": [
        "### Test Data"
      ],
      "metadata": {
        "id": "AzlLdnMvvHuH"
      }
    },
    {
      "cell_type": "code",
      "source": [
        "test_data = pd.read_csv(\"DataSet/data/test.csv\") #load test data\n",
        "\n",
        "\n",
        "print(\"\\n Train Data: \\nHead: \")\n",
        "test_data.head()\n",
        "print(\"\\nDescribe:\")\n",
        "print(test_data.describe())\n",
        "print(\"\\nInfo:\")\n",
        "print(test_data.info())\n",
        "print(\"\\nColumns:\")\n",
        "print(test_data.columns)\n",
        "print(\"\\nShape:\")\n",
        "print(test_data.shape)"
      ],
      "metadata": {
        "colab": {
          "base_uri": "https://localhost:8080/"
        },
        "id": "tE312kT-9j61",
        "outputId": "3e8cff2a-01fb-4c85-8b77-6459c3a9422b"
      },
      "execution_count": 24,
      "outputs": [
        {
          "output_type": "stream",
          "name": "stdout",
          "text": [
            "\n",
            " Train Data: \n",
            "Head: \n",
            "\n",
            "Describe:\n",
            "        Unnamed: 0           x1           y1           x2           y2  \\\n",
            "count  3237.000000  3237.000000  3237.000000  3237.000000  3237.000000   \n",
            "mean   1618.000000    66.103491   106.835650   639.691999   417.637010   \n",
            "std     934.585737    84.198376   106.736782   417.499266   279.758425   \n",
            "min       0.000000     1.000000     1.000000    72.000000    49.000000   \n",
            "25%     809.000000    18.000000    40.000000   389.000000   242.000000   \n",
            "50%    1618.000000    39.000000    77.000000   573.000000   363.000000   \n",
            "75%    2427.000000    80.000000   135.000000   763.000000   487.000000   \n",
            "max    3236.000000   872.000000  1311.000000  7224.000000  3835.000000   \n",
            "\n",
            "             class  \n",
            "count  3237.000000  \n",
            "mean     98.852950  \n",
            "std      56.359186  \n",
            "min       1.000000  \n",
            "25%      51.000000  \n",
            "50%      99.000000  \n",
            "75%     148.000000  \n",
            "max     196.000000  \n",
            "\n",
            "Info:\n",
            "<class 'pandas.core.frame.DataFrame'>\n",
            "RangeIndex: 3237 entries, 0 to 3236\n",
            "Data columns (total 7 columns):\n",
            " #   Column      Non-Null Count  Dtype \n",
            "---  ------      --------------  ----- \n",
            " 0   Unnamed: 0  3237 non-null   int64 \n",
            " 1   x1          3237 non-null   int64 \n",
            " 2   y1          3237 non-null   int64 \n",
            " 3   x2          3237 non-null   int64 \n",
            " 4   y2          3237 non-null   int64 \n",
            " 5   class       3237 non-null   int64 \n",
            " 6   fname       3237 non-null   object\n",
            "dtypes: int64(6), object(1)\n",
            "memory usage: 177.1+ KB\n",
            "None\n",
            "\n",
            "Columns:\n",
            "Index(['Unnamed: 0', 'x1', 'y1', 'x2', 'y2', 'class', 'fname'], dtype='object')\n",
            "\n",
            "Shape:\n",
            "(3237, 7)\n"
          ]
        }
      ]
    },
    {
      "cell_type": "markdown",
      "source": [
        "**Let's get an Average of images available per class**\n",
        "\n",
        "We should get around 66 images per class with the `stanford car dataset`"
      ],
      "metadata": {
        "id": "RIWc3R9NvKPo"
      }
    },
    {
      "cell_type": "code",
      "source": [
        "counter = 0 #no. of images available per class in our dataset\n",
        "average = 0 #average no. of images availabe for all our classes for training\n",
        "\n",
        "for y in range(1, 197):\n",
        "  for x in train_data['class']:\n",
        "    if (x == y):\n",
        "      # print(\"x, y\", x, y)\n",
        "      counter = counter+1;\n",
        "  average = (average + counter)/y\n",
        "\n",
        "\n",
        "print(\"Average:\", average)"
      ],
      "metadata": {
        "colab": {
          "base_uri": "https://localhost:8080/"
        },
        "id": "y020KOLKHJdV",
        "outputId": "c5cf0243-bb21-4881-a03c-20bf7be24f6b"
      },
      "execution_count": 25,
      "outputs": [
        {
          "output_type": "stream",
          "name": "stdout",
          "text": [
            "Average: 66.4000624886608\n"
          ]
        }
      ]
    },
    {
      "cell_type": "markdown",
      "source": [
        "### Image Resising and Fixing the `fname` for one of the value in CSV"
      ],
      "metadata": {
        "id": "yuTIayHPvZ8B"
      }
    },
    {
      "cell_type": "code",
      "source": [
        "from PIL import Image\n",
        "import os"
      ],
      "metadata": {
        "id": "2hVvvxzUaIzv"
      },
      "execution_count": 26,
      "outputs": []
    },
    {
      "cell_type": "code",
      "source": [
        "# fix the file names here\n",
        "train_data.loc[9998, 'fname'] = '09999.jpg'"
      ],
      "metadata": {
        "id": "Sc9g6SkPvZi0"
      },
      "execution_count": 27,
      "outputs": []
    },
    {
      "cell_type": "markdown",
      "source": [
        "The below function does the resizing of all our images to the specified resolution"
      ],
      "metadata": {
        "id": "upVNeo7Fdnh7"
      }
    },
    {
      "cell_type": "code",
      "source": [
        "# Define the resize function\n",
        "\n",
        "def resize_image_and_bbox(image_path, new_size, bbox):\n",
        "  image = Image.open(image_path)\n",
        "  original_size = image.size\n",
        "\n",
        "\n",
        "  resized_image = image.resize(new_size)\n",
        "\n",
        "  scale_x = new_size[0] / original_size[0]\n",
        "  scale_y = new_size[1] / original_size[1]\n",
        "\n",
        "  resized_bbox = np.array(bbox) * [scale_x, scale_y, scale_x, scale_y]\n",
        "\n",
        "  # Uncomment to verify the parameters when using this function\n",
        "  # if(image_path == 'DataSet/images/cars_train/00001.jpg'):\n",
        "  #   print(\"Image Size: \", original_size)\n",
        "  #   print(\"Scale_X: \", scale_x)\n",
        "  #   print(\"np.array(bbox): \", np.array(bbox))\n",
        "  #   print(\"Original bbox: \", bbox)\n",
        "  #   print(\"Resized_bbox: \", resized_bbox.tolist())\n",
        "\n",
        "  return resized_image, resized_bbox.tolist()"
      ],
      "metadata": {
        "id": "o5iTcu38aQ6g"
      },
      "execution_count": 28,
      "outputs": []
    },
    {
      "cell_type": "markdown",
      "source": [
        "resizing the images to 128x128 resolution"
      ],
      "metadata": {
        "id": "yyl_FArBdgyU"
      }
    },
    {
      "cell_type": "code",
      "source": [
        "new_size = (128,128)"
      ],
      "metadata": {
        "id": "rdvfOEgWa92E"
      },
      "execution_count": 66,
      "outputs": []
    },
    {
      "cell_type": "markdown",
      "source": [
        "Creating a variable for resized data that we can use to update the bounding box information"
      ],
      "metadata": {
        "id": "eAnYLMmhzNGl"
      }
    },
    {
      "cell_type": "code",
      "source": [
        "train_data_resized = train_data.copy()\n",
        "train_data_resized.shape"
      ],
      "metadata": {
        "colab": {
          "base_uri": "https://localhost:8080/"
        },
        "id": "ARS9Fjz3x7HW",
        "outputId": "ac25fd52-492a-4ee4-a20c-f1d456fdc9be"
      },
      "execution_count": 67,
      "outputs": [
        {
          "output_type": "execute_result",
          "data": {
            "text/plain": [
              "(12948, 7)"
            ]
          },
          "metadata": {},
          "execution_count": 67
        }
      ]
    },
    {
      "cell_type": "markdown",
      "source": [],
      "metadata": {
        "id": "ld-wBGbGdnA8"
      }
    },
    {
      "cell_type": "code",
      "source": [
        "# train_data.head(10000)"
      ],
      "metadata": {
        "id": "ZsefLvqVrPWz"
      },
      "execution_count": 68,
      "outputs": []
    },
    {
      "cell_type": "markdown",
      "source": [
        "## ***Before I resize the images, I wanna see the small resolution image available in the dataset to avoid any mis handling of images during the training phase of dataset***"
      ],
      "metadata": {
        "id": "oiQaIjuFvx87"
      }
    },
    {
      "cell_type": "code",
      "source": [
        "temp_width = 190000 # some random value which should be high to compare and get the smallest width(px size) of the available images in the dataset\n",
        "temp_height = 19000\n",
        "\n",
        "smallest_width_image = \"\"\n",
        "smallest_height_image = \"\"\n",
        "\n",
        "\n",
        "def ImageSizeChecker():\n",
        "  global temp_width, temp_height, smallest_height_image, smallest_width_image\n",
        "  # print(train_data['fname'][0])\n",
        "  for i in range(1, 12948):\n",
        "    image_path = 'DataSet/images/cars_train/' + train_data['fname'][i]\n",
        "    img = tf.keras.preprocessing.image.load_img(image_path)\n",
        "    # print(img.width, img.height)\n",
        "    if (img.width < temp_width):\n",
        "      temp_width = img.width\n",
        "      smallest_width_image = train_data['fname'][i]\n",
        "      # print(\"Image Width Size for \", i, \"th image: \",  temp_width)\n",
        "    if (img.height < temp_height):\n",
        "      temp_height = img.width\n",
        "      smallest_height_image = train_data['fname'][i]\n",
        "      # print(\"Image height Size for \", i, \"th image: \",  temp_width)\n",
        "    if i == 12947:\n",
        "      print(\"END\")\n",
        "      print(temp_width, temp_height)\n",
        "      print(smallest_width_image, smallest_height_image)\n",
        "\n",
        "\n",
        "ImageSizeChecker()\n",
        "\n"
      ],
      "metadata": {
        "colab": {
          "base_uri": "https://localhost:8080/"
        },
        "id": "WW2GcD80v9Hk",
        "outputId": "46060ae2-70bb-4d4a-e041-0ec35d461e75"
      },
      "execution_count": 62,
      "outputs": [
        {
          "output_type": "stream",
          "name": "stdout",
          "text": [
            "END\n",
            "78 96\n",
            "00097.jpg 12942.jpg\n"
          ]
        }
      ]
    },
    {
      "cell_type": "markdown",
      "source": [
        "Checking which images have low resolution"
      ],
      "metadata": {
        "id": "0bLXDFLc0V8F"
      }
    },
    {
      "cell_type": "code",
      "source": [
        "small_image_1 = 'DataSet/images/cars_train/' + train_data['fname'][96]\n",
        "print(\"train_data name\", train_data['fname'][96])\n",
        "img1 = tf.keras.preprocessing.image.load_img(small_image_1)\n",
        "\n",
        "\n",
        "small_image_2 = 'DataSet/images/cars_train/' + train_data['fname'][12941]\n",
        "print(\"train_data name\", train_data['fname'][12941])\n",
        "img2 = tf.keras.preprocessing.image.load_img(small_image_2)\n",
        "img1"
      ],
      "metadata": {
        "colab": {
          "base_uri": "https://localhost:8080/",
          "height": 111
        },
        "id": "g1LsstB40Zq0",
        "outputId": "4feeb716-8311-4400-aacb-c7e17af780a1"
      },
      "execution_count": 63,
      "outputs": [
        {
          "output_type": "stream",
          "name": "stdout",
          "text": [
            "train_data name 00097.jpg\n",
            "train_data name 12942.jpg\n"
          ]
        },
        {
          "output_type": "execute_result",
          "data": {
            "text/plain": [
              "<PIL.JpegImagePlugin.JpegImageFile image mode=RGB size=78x58>"
            ],
            "image/png": "[encoded data removed]"
          },
          "metadata": {},
          "execution_count": 63
        }
      ]
    },
    {
      "cell_type": "code",
      "source": [
        "img2"
      ],
      "metadata": {
        "colab": {
          "base_uri": "https://localhost:8080/",
          "height": 81
        },
        "id": "I5mUKdTv2UVe",
        "outputId": "10eb7e73-303b-4cf8-b08b-e361bb244d2d"
      },
      "execution_count": 64,
      "outputs": [
        {
          "output_type": "execute_result",
          "data": {
            "text/plain": [
              "<PIL.JpegImagePlugin.JpegImageFile image mode=RGB size=96x64>"
            ],
            "image/png": "[encoded data removed]"
          },
          "metadata": {},
          "execution_count": 64
        }
      ]
    },
    {
      "cell_type": "markdown",
      "source": [
        "### Resizing the Training DataSet images to 128x128 pixels:\n",
        "\n",
        "\n",
        "\n",
        "*   Read the dataset from CSV file\n",
        "*   Iterate over each image, resize it and its bounding box in CSV\n",
        "*   Save the resize image\n",
        "*   Update the bounding box coordinates in the new dataframe called `train_data_resized`.\n",
        "\n",
        "> Resizing the dataset helps in training the model much faster as we deal with larger datasets\n",
        "\n",
        "\n"
      ],
      "metadata": {
        "id": "Olrf1iNG2cE7"
      }
    },
    {
      "cell_type": "code",
      "source": [
        "# dataset folder\n",
        "dataset_image_folder = 'DataSet/images/cars_train/'\n",
        "# process each image - resizing\n",
        "for index, row in train_data.iterrows():\n",
        "  image_path = dataset_image_folder + row['fname']\n",
        "  bbox = [row['x1'], row['y1'], row['x2'], row['y2']]\n",
        "\n",
        "  # resize image and box\n",
        "  resized_image, resized_bbox = resize_image_and_bbox(image_path, new_size, bbox)\n",
        "\n",
        "  #save the resized image\n",
        "  save_path ='DataSet/resized_images' #setting a custom path for storing the resized data\n",
        "  if not os.path.exists(save_path):\n",
        "    os.makedirs(save_path)\n",
        "\n",
        "  filename = os.path.basename(image_path)\n",
        "  resized_image.save(os.path.join(save_path, filename))\n",
        "\n",
        "  # update the dataframe with the resized bbox coordinates - updating the train_data_resized dataframe object\n",
        "  train_data_resized.loc[index, ['x1', 'y1', 'x2', 'y2']] = resized_bbox\n",
        "\n",
        "\n",
        "# Image Cropper Function\n",
        "def ImageCropper(save_path, class_name, image_path, x1, y1,x2, y2):\n",
        "  im = Image.open(image_path);\n",
        "  croppedImage = im.crop((x1, y1, x2, y2))\n",
        "\n",
        "  # print(\"Cropping Finished\")\n",
        "  filename = os.path.basename(image_path)\n",
        "  # class_image_save_path = save_path + \"/\" + str(class_name) + \"/\" # this line separates all the images to separate folders according to the class no.\n",
        "  class_image_save_path = save_path + \"/\"\n",
        "\n",
        "  # print(class_image_save_path+filename)\n",
        "\n",
        "  #save the resized image\n",
        "  if not os.path.exists(class_image_save_path):\n",
        "    os.makedirs(class_image_save_path)\n",
        "\n",
        "  croppedImage.save(os.path.join(class_image_save_path, filename))\n",
        "\n"
      ],
      "metadata": {
        "id": "qnJv3oK9bFCM"
      },
      "execution_count": 70,
      "outputs": []
    },
    {
      "cell_type": "code",
      "source": [
        "#!ls DataSet/images/cars_train #uncomment to see the show the no. of images we have"
      ],
      "metadata": {
        "id": "ZjwpyPTcdGC0"
      },
      "execution_count": 71,
      "outputs": []
    },
    {
      "cell_type": "code",
      "source": [
        "#!ls DataSet/resized_images/ #let's see the count of resized images."
      ],
      "metadata": {
        "id": "DuPYULGQtLtz"
      },
      "execution_count": 72,
      "outputs": []
    },
    {
      "cell_type": "code",
      "source": [
        "train_data_resized.head()"
      ],
      "metadata": {
        "colab": {
          "base_uri": "https://localhost:8080/",
          "height": 206
        },
        "id": "FXvydDqWw3uV",
        "outputId": "82d062c2-b2c7-49cc-f290-0c7ea0406c65"
      },
      "execution_count": 73,
      "outputs": [
        {
          "output_type": "execute_result",
          "data": {
            "text/plain": [
              "   Unnamed: 0         x1         y1          x2          y2  class      fname\n",
              "0           0   8.320000  37.120000  121.386667  120.000000     14  00001.jpg\n",
              "1           1   5.120000  21.997037  123.448889  111.312593      3  00002.jpg\n",
              "2           2  17.000000  29.066667  120.200000  101.600000     91  00003.jpg\n",
              "3           3  37.851429  36.294372   90.453333  101.217893    134  00004.jpg\n",
              "4           4  12.444444  42.666667  118.222222  117.333333    106  00005.jpg"
            ],
            "text/html": [
              "\n",
              "  <div id=\"df-3b6b6822-386e-4b4a-bd0e-6afd6fe4c310\" class=\"colab-df-container\">\n",
              "    <div>\n",
              "<style scoped>\n",
              "    .dataframe tbody tr th:only-of-type {\n",
              "        vertical-align: middle;\n",
              "    }\n",
              "\n",
              "    .dataframe tbody tr th {\n",
              "        vertical-align: top;\n",
              "    }\n",
              "\n",
              "    .dataframe thead th {\n",
              "        text-align: right;\n",
              "    }\n",
              "</style>\n",
              "<table border=\"1\" class=\"dataframe\">\n",
              "  <thead>\n",
              "    <tr style=\"text-align: right;\">\n",
              "      <th></th>\n",
              "      <th>Unnamed: 0</th>\n",
              "      <th>x1</th>\n",
              "      <th>y1</th>\n",
              "      <th>x2</th>\n",
              "      <th>y2</th>\n",
              "      <th>class</th>\n",
              "      <th>fname</th>\n",
              "    </tr>\n",
              "  </thead>\n",
              "  <tbody>\n",
              "    <tr>\n",
              "      <th>0</th>\n",
              "      <td>0</td>\n",
              "      <td>8.320000</td>\n",
              "      <td>37.120000</td>\n",
              "      <td>121.386667</td>\n",
              "      <td>120.000000</td>\n",
              "      <td>14</td>\n",
              "      <td>00001.jpg</td>\n",
              "    </tr>\n",
              "    <tr>\n",
              "      <th>1</th>\n",
              "      <td>1</td>\n",
              "      <td>5.120000</td>\n",
              "      <td>21.997037</td>\n",
              "      <td>123.448889</td>\n",
              "      <td>111.312593</td>\n",
              "      <td>3</td>\n",
              "      <td>00002.jpg</td>\n",
              "    </tr>\n",
              "    <tr>\n",
              "      <th>2</th>\n",
              "      <td>2</td>\n",
              "      <td>17.000000</td>\n",
              "      <td>29.066667</td>\n",
              "      <td>120.200000</td>\n",
              "      <td>101.600000</td>\n",
              "      <td>91</td>\n",
              "      <td>00003.jpg</td>\n",
              "    </tr>\n",
              "    <tr>\n",
              "      <th>3</th>\n",
              "      <td>3</td>\n",
              "      <td>37.851429</td>\n",
              "      <td>36.294372</td>\n",
              "      <td>90.453333</td>\n",
              "      <td>101.217893</td>\n",
              "      <td>134</td>\n",
              "      <td>00004.jpg</td>\n",
              "    </tr>\n",
              "    <tr>\n",
              "      <th>4</th>\n",
              "      <td>4</td>\n",
              "      <td>12.444444</td>\n",
              "      <td>42.666667</td>\n",
              "      <td>118.222222</td>\n",
              "      <td>117.333333</td>\n",
              "      <td>106</td>\n",
              "      <td>00005.jpg</td>\n",
              "    </tr>\n",
              "  </tbody>\n",
              "</table>\n",
              "</div>\n",
              "    <div class=\"colab-df-buttons\">\n",
              "\n",
              "  <div class=\"colab-df-container\">\n",
              "    <button class=\"colab-df-convert\" onclick=\"convertToInteractive('df-3b6b6822-386e-4b4a-bd0e-6afd6fe4c310')\"\n",
              "            title=\"Convert this dataframe to an interactive table.\"\n",
              "            style=\"display:none;\">\n",
              "\n",
              "  <svg xmlns=\"http://www.w3.org/2000/svg\" height=\"24px\" viewBox=\"0 -960 960 960\">\n",
              "    <path d=\"M120-120v-720h720v720H120Zm60-500h600v-160H180v160Zm220 220h160v-160H400v160Zm0 220h160v-160H400v160ZM180-400h160v-160H180v160Zm440 0h160v-160H620v160ZM180-180h160v-160H180v160Zm440 0h160v-160H620v160Z\"/>\n",
              "  </svg>\n",
              "    </button>\n",
              "\n",
              "  <style>\n",
              "    .colab-df-container {\n",
              "      display:flex;\n",
              "      gap: 12px;\n",
              "    }\n",
              "\n",
              "    .colab-df-convert {\n",
              "      background-color: #E8F0FE;\n",
              "      border: none;\n",
              "      border-radius: 50%;\n",
              "      cursor: pointer;\n",
              "      display: none;\n",
              "      fill: #1967D2;\n",
              "      height: 32px;\n",
              "      padding: 0 0 0 0;\n",
              "      width: 32px;\n",
              "    }\n",
              "\n",
              "    .colab-df-convert:hover {\n",
              "      background-color: #E2EBFA;\n",
              "      box-shadow: 0px 1px 2px rgba(60, 64, 67, 0.3), 0px 1px 3px 1px rgba(60, 64, 67, 0.15);\n",
              "      fill: #174EA6;\n",
              "    }\n",
              "\n",
              "    .colab-df-buttons div {\n",
              "      margin-bottom: 4px;\n",
              "    }\n",
              "\n",
              "    [theme=dark] .colab-df-convert {\n",
              "      background-color: #3B4455;\n",
              "      fill: #D2E3FC;\n",
              "    }\n",
              "\n",
              "    [theme=dark] .colab-df-convert:hover {\n",
              "      background-color: #434B5C;\n",
              "      box-shadow: 0px 1px 3px 1px rgba(0, 0, 0, 0.15);\n",
              "      filter: drop-shadow(0px 1px 2px rgba(0, 0, 0, 0.3));\n",
              "      fill: #FFFFFF;\n",
              "    }\n",
              "  </style>\n",
              "\n",
              "    <script>\n",
              "      const buttonEl =\n",
              "        document.querySelector('#df-3b6b6822-386e-4b4a-bd0e-6afd6fe4c310 button.colab-df-convert');\n",
              "      buttonEl.style.display =\n",
              "        google.colab.kernel.accessAllowed ? 'block' : 'none';\n",
              "\n",
              "      async function convertToInteractive(key) {\n",
              "        const element = document.querySelector('#df-3b6b6822-386e-4b4a-bd0e-6afd6fe4c310');\n",
              "        const dataTable =\n",
              "          await google.colab.kernel.invokeFunction('convertToInteractive',\n",
              "                                                    [key], {});\n",
              "        if (!dataTable) return;\n",
              "\n",
              "        const docLinkHtml = 'Like what you see? Visit the ' +\n",
              "          '<a target=\"_blank\" href=https://colab.research.google.com/notebooks/data_table.ipynb>data table notebook</a>'\n",
              "          + ' to learn more about interactive tables.';\n",
              "        element.innerHTML = '';\n",
              "        dataTable['output_type'] = 'display_data';\n",
              "        await google.colab.output.renderOutput(dataTable, element);\n",
              "        const docLink = document.createElement('div');\n",
              "        docLink.innerHTML = docLinkHtml;\n",
              "        element.appendChild(docLink);\n",
              "      }\n",
              "    </script>\n",
              "  </div>\n",
              "\n",
              "\n",
              "<div id=\"df-0e479662-47b7-4d8e-95fe-f3e44fb4efcd\">\n",
              "  <button class=\"colab-df-quickchart\" onclick=\"quickchart('df-0e479662-47b7-4d8e-95fe-f3e44fb4efcd')\"\n",
              "            title=\"Suggest charts\"\n",
              "            style=\"display:none;\">\n",
              "\n",
              "<svg xmlns=\"http://www.w3.org/2000/svg\" height=\"24px\"viewBox=\"0 0 24 24\"\n",
              "     width=\"24px\">\n",
              "    <g>\n",
              "        <path d=\"M19 3H5c-1.1 0-2 .9-2 2v14c0 1.1.9 2 2 2h14c1.1 0 2-.9 2-2V5c0-1.1-.9-2-2-2zM9 17H7v-7h2v7zm4 0h-2V7h2v10zm4 0h-2v-4h2v4z\"/>\n",
              "    </g>\n",
              "</svg>\n",
              "  </button>\n",
              "\n",
              "<style>\n",
              "  .colab-df-quickchart {\n",
              "      --bg-color: #E8F0FE;\n",
              "      --fill-color: #1967D2;\n",
              "      --hover-bg-color: #E2EBFA;\n",
              "      --hover-fill-color: #174EA6;\n",
              "      --disabled-fill-color: #AAA;\n",
              "      --disabled-bg-color: #DDD;\n",
              "  }\n",
              "\n",
              "  [theme=dark] .colab-df-quickchart {\n",
              "      --bg-color: #3B4455;\n",
              "      --fill-color: #D2E3FC;\n",
              "      --hover-bg-color: #434B5C;\n",
              "      --hover-fill-color: #FFFFFF;\n",
              "      --disabled-bg-color: #3B4455;\n",
              "      --disabled-fill-color: #666;\n",
              "  }\n",
              "\n",
              "  .colab-df-quickchart {\n",
              "    background-color: var(--bg-color);\n",
              "    border: none;\n",
              "    border-radius: 50%;\n",
              "    cursor: pointer;\n",
              "    display: none;\n",
              "    fill: var(--fill-color);\n",
              "    height: 32px;\n",
              "    padding: 0;\n",
              "    width: 32px;\n",
              "  }\n",
              "\n",
              "  .colab-df-quickchart:hover {\n",
              "    background-color: var(--hover-bg-color);\n",
              "    box-shadow: 0 1px 2px rgba(60, 64, 67, 0.3), 0 1px 3px 1px rgba(60, 64, 67, 0.15);\n",
              "    fill: var(--button-hover-fill-color);\n",
              "  }\n",
              "\n",
              "  .colab-df-quickchart-complete:disabled,\n",
              "  .colab-df-quickchart-complete:disabled:hover {\n",
              "    background-color: var(--disabled-bg-color);\n",
              "    fill: var(--disabled-fill-color);\n",
              "    box-shadow: none;\n",
              "  }\n",
              "\n",
              "  .colab-df-spinner {\n",
              "    border: 2px solid var(--fill-color);\n",
              "    border-color: transparent;\n",
              "    border-bottom-color: var(--fill-color);\n",
              "    animation:\n",
              "      spin 1s steps(1) infinite;\n",
              "  }\n",
              "\n",
              "  @keyframes spin {\n",
              "    0% {\n",
              "      border-color: transparent;\n",
              "      border-bottom-color: var(--fill-color);\n",
              "      border-left-color: var(--fill-color);\n",
              "    }\n",
              "    20% {\n",
              "      border-color: transparent;\n",
              "      border-left-color: var(--fill-color);\n",
              "      border-top-color: var(--fill-color);\n",
              "    }\n",
              "    30% {\n",
              "      border-color: transparent;\n",
              "      border-left-color: var(--fill-color);\n",
              "      border-top-color: var(--fill-color);\n",
              "      border-right-color: var(--fill-color);\n",
              "    }\n",
              "    40% {\n",
              "      border-color: transparent;\n",
              "      border-right-color: var(--fill-color);\n",
              "      border-top-color: var(--fill-color);\n",
              "    }\n",
              "    60% {\n",
              "      border-color: transparent;\n",
              "      border-right-color: var(--fill-color);\n",
              "    }\n",
              "    80% {\n",
              "      border-color: transparent;\n",
              "      border-right-color: var(--fill-color);\n",
              "      border-bottom-color: var(--fill-color);\n",
              "    }\n",
              "    90% {\n",
              "      border-color: transparent;\n",
              "      border-bottom-color: var(--fill-color);\n",
              "    }\n",
              "  }\n",
              "</style>\n",
              "\n",
              "  <script>\n",
              "    async function quickchart(key) {\n",
              "      const quickchartButtonEl =\n",
              "        document.querySelector('#' + key + ' button');\n",
              "      quickchartButtonEl.disabled = true;  // To prevent multiple clicks.\n",
              "      quickchartButtonEl.classList.add('colab-df-spinner');\n",
              "      try {\n",
              "        const charts = await google.colab.kernel.invokeFunction(\n",
              "            'suggestCharts', [key], {});\n",
              "      } catch (error) {\n",
              "        console.error('Error during call to suggestCharts:', error);\n",
              "      }\n",
              "      quickchartButtonEl.classList.remove('colab-df-spinner');\n",
              "      quickchartButtonEl.classList.add('colab-df-quickchart-complete');\n",
              "    }\n",
              "    (() => {\n",
              "      let quickchartButtonEl =\n",
              "        document.querySelector('#df-0e479662-47b7-4d8e-95fe-f3e44fb4efcd button');\n",
              "      quickchartButtonEl.style.display =\n",
              "        google.colab.kernel.accessAllowed ? 'block' : 'none';\n",
              "    })();\n",
              "  </script>\n",
              "</div>\n",
              "    </div>\n",
              "  </div>\n"
            ],
            "application/vnd.google.colaboratory.intrinsic+json": {
              "type": "dataframe",
              "variable_name": "train_data_resized",
              "summary": "{\n  \"name\": \"train_data_resized\",\n  \"rows\": 12948,\n  \"fields\": [\n    {\n      \"column\": \"Unnamed: 0\",\n      \"properties\": {\n        \"dtype\": \"number\",\n        \"std\": 2200,\n        \"min\": 0,\n        \"max\": 8143,\n        \"num_unique_values\": 8144,\n        \"samples\": [\n          7437,\n          483,\n          7598\n        ],\n        \"semantic_type\": \"\",\n        \"description\": \"\"\n      }\n    },\n    {\n      \"column\": \"x1\",\n      \"properties\": {\n        \"dtype\": \"number\",\n        \"std\": 9.448086288761314,\n        \"min\": 0.041666666666666664,\n        \"max\": 82.72,\n        \"num_unique_values\": 4541,\n        \"samples\": [\n          11.221917808219178,\n          4.466666666666667,\n          22.240000000000002\n        ],\n        \"semantic_type\": \"\",\n        \"description\": \"\"\n      }\n    },\n    {\n      \"column\": \"y1\",\n      \"properties\": {\n        \"dtype\": \"number\",\n        \"std\": 15.581281890991328,\n        \"min\": 0.04938271604938271,\n        \"max\": 94.45989304812834,\n        \"num_unique_values\": 6957,\n        \"samples\": [\n          20.131455399061032,\n          37.219858156028366,\n          29.653333333333336\n        ],\n        \"semantic_type\": \"\",\n        \"description\": \"\"\n      }\n    },\n    {\n      \"column\": \"x2\",\n      \"properties\": {\n        \"dtype\": \"number\",\n        \"std\": 9.327438260262896,\n        \"min\": 44.900000000000006,\n        \"max\": 128.0,\n        \"num_unique_values\": 4443,\n        \"samples\": [\n          110.26327944572748,\n          122.79322033898305,\n          118.98591549295774\n        ],\n        \"semantic_type\": \"\",\n        \"description\": \"\"\n      }\n    },\n    {\n      \"column\": \"y2\",\n      \"properties\": {\n        \"dtype\": \"number\",\n        \"std\": 10.315925476342953,\n        \"min\": 57.0,\n        \"max\": 128.0,\n        \"num_unique_values\": 6093,\n        \"samples\": [\n          117.78403755868545,\n          116.9262086513995,\n          96.52117263843648\n        ],\n        \"semantic_type\": \"\",\n        \"description\": \"\"\n      }\n    },\n    {\n      \"column\": \"class\",\n      \"properties\": {\n        \"dtype\": \"number\",\n        \"std\": 56,\n        \"min\": 1,\n        \"max\": 196,\n        \"num_unique_values\": 196,\n        \"samples\": [\n          7,\n          50,\n          73\n        ],\n        \"semantic_type\": \"\",\n        \"description\": \"\"\n      }\n    },\n    {\n      \"column\": \"fname\",\n      \"properties\": {\n        \"dtype\": \"string\",\n        \"num_unique_values\": 12948,\n        \"samples\": [\n          \"07278.jpg\",\n          \"05322.jpg\",\n          \"08421.jpg\"\n        ],\n        \"semantic_type\": \"\",\n        \"description\": \"\"\n      }\n    }\n  ]\n}"
            }
          },
          "metadata": {},
          "execution_count": 73
        }
      ]
    },
    {
      "cell_type": "markdown",
      "source": [
        "## Check the resized image."
      ],
      "metadata": {
        "id": "fVbZmPkL3gMy"
      }
    },
    {
      "cell_type": "code",
      "source": [
        "scaled_img = tf.keras.preprocessing.image.load_img('DataSet/resized_images/00097.jpg')\n",
        "scaled_img"
      ],
      "metadata": {
        "colab": {
          "base_uri": "https://localhost:8080/",
          "height": 145
        },
        "id": "NEv2e-DdxOzR",
        "outputId": "9f02b2ab-93e4-4008-a62b-87932f51550a"
      },
      "execution_count": 77,
      "outputs": [
        {
          "output_type": "execute_result",
          "data": {
            "text/plain": [
              "<PIL.JpegImagePlugin.JpegImageFile image mode=RGB size=128x128>"
            ],
            "image/png": "[encoded data removed]"
          },
          "metadata": {},
          "execution_count": 77
        }
      ]
    },
    {
      "cell_type": "markdown",
      "source": [
        "Split data into Training and validation set"
      ],
      "metadata": {
        "id": "q95dbXpY6EqP"
      }
    },
    {
      "cell_type": "code",
      "source": [
        "from sklearn.model_selection import train_test_split\n",
        "import tensorflow as tf"
      ],
      "metadata": {
        "id": "IaiHAdOT-AaD"
      },
      "execution_count": null,
      "outputs": []
    },
    {
      "cell_type": "code",
      "source": [
        "X_train = train_data_resized.drop(columns=[\"class\"])  # Features\n",
        "y_train = train_data_resized[\"class\"]  # Target variable which in our case is class"
      ],
      "metadata": {
        "id": "_5dXp8n76G6f"
      },
      "execution_count": null,
      "outputs": []
    },
    {
      "cell_type": "code",
      "source": [
        "X_train, X_val, y_train, y_val = train_test_split(X_train, y_train, test_size=0.2, random_state=42) #training set 80% validation set 20%"
      ],
      "metadata": {
        "id": "xBpgWdt_6KN9"
      },
      "execution_count": null,
      "outputs": []
    },
    {
      "cell_type": "code",
      "source": [
        "X_train.shape"
      ],
      "metadata": {
        "colab": {
          "base_uri": "https://localhost:8080/"
        },
        "id": "VUVYXjc16Zhx",
        "outputId": "0415dae7-ce2b-4cf9-efa8-d80b8c269e9b"
      },
      "execution_count": null,
      "outputs": [
        {
          "output_type": "execute_result",
          "data": {
            "text/plain": [
              "(10358, 6)"
            ]
          },
          "metadata": {},
          "execution_count": 35
        }
      ]
    },
    {
      "cell_type": "code",
      "source": [
        "X_val.shape"
      ],
      "metadata": {
        "colab": {
          "base_uri": "https://localhost:8080/"
        },
        "id": "sDMvz_gy6bYW",
        "outputId": "e742c3eb-9135-4baf-8d54-0a5d6aa4eba9"
      },
      "execution_count": null,
      "outputs": [
        {
          "output_type": "execute_result",
          "data": {
            "text/plain": [
              "(2590, 6)"
            ]
          },
          "metadata": {},
          "execution_count": 36
        }
      ]
    },
    {
      "cell_type": "code",
      "source": [
        "y_train.shape"
      ],
      "metadata": {
        "colab": {
          "base_uri": "https://localhost:8080/"
        },
        "id": "f74FXmKI6c9C",
        "outputId": "f1e6dbfe-ff42-4f2f-c16c-52eea59945e5"
      },
      "execution_count": null,
      "outputs": [
        {
          "output_type": "execute_result",
          "data": {
            "text/plain": [
              "(10358,)"
            ]
          },
          "metadata": {},
          "execution_count": 37
        }
      ]
    },
    {
      "cell_type": "code",
      "source": [
        "y_val.shape"
      ],
      "metadata": {
        "colab": {
          "base_uri": "https://localhost:8080/"
        },
        "id": "MuNuW4m16ex3",
        "outputId": "b256eb52-90d2-43d1-b064-a9987b98c203"
      },
      "execution_count": null,
      "outputs": [
        {
          "output_type": "execute_result",
          "data": {
            "text/plain": [
              "(2590,)"
            ]
          },
          "metadata": {},
          "execution_count": 38
        }
      ]
    },
    {
      "cell_type": "code",
      "source": [
        "X_train.head()"
      ],
      "metadata": {
        "colab": {
          "base_uri": "https://localhost:8080/",
          "height": 206
        },
        "id": "A26WYpYA6kLk",
        "outputId": "9991d863-61a0-4797-c08b-d9c81fbe763e"
      },
      "execution_count": null,
      "outputs": [
        {
          "output_type": "execute_result",
          "data": {
            "text/plain": [
              "      Unnamed: 0         x1         y1          x2          y2      fname\n",
              "6821        6821   2.750000  31.000000  121.875000  108.666667  06822.jpg\n",
              "2498        2498   7.979644  42.406504  119.368957  113.951220  02499.jpg\n",
              "1851        1851   5.400000   5.600000  125.200000  115.466667  01852.jpg\n",
              "8128        8128  42.320000  49.386667  104.480000   86.186667  08129.jpg\n",
              "4533        4533   5.979239  25.185984  122.906574  113.854447  04534.jpg"
            ],
            "text/html": [
              "\n",
              "  <div id=\"df-3d98cfc5-43f7-4dbd-931b-2c369ce2f123\" class=\"colab-df-container\">\n",
              "    <div>\n",
              "<style scoped>\n",
              "    .dataframe tbody tr th:only-of-type {\n",
              "        vertical-align: middle;\n",
              "    }\n",
              "\n",
              "    .dataframe tbody tr th {\n",
              "        vertical-align: top;\n",
              "    }\n",
              "\n",
              "    .dataframe thead th {\n",
              "        text-align: right;\n",
              "    }\n",
              "</style>\n",
              "<table border=\"1\" class=\"dataframe\">\n",
              "  <thead>\n",
              "    <tr style=\"text-align: right;\">\n",
              "      <th></th>\n",
              "      <th>Unnamed: 0</th>\n",
              "      <th>x1</th>\n",
              "      <th>y1</th>\n",
              "      <th>x2</th>\n",
              "      <th>y2</th>\n",
              "      <th>fname</th>\n",
              "    </tr>\n",
              "  </thead>\n",
              "  <tbody>\n",
              "    <tr>\n",
              "      <th>6821</th>\n",
              "      <td>6821</td>\n",
              "      <td>2.750000</td>\n",
              "      <td>31.000000</td>\n",
              "      <td>121.875000</td>\n",
              "      <td>108.666667</td>\n",
              "      <td>06822.jpg</td>\n",
              "    </tr>\n",
              "    <tr>\n",
              "      <th>2498</th>\n",
              "      <td>2498</td>\n",
              "      <td>7.979644</td>\n",
              "      <td>42.406504</td>\n",
              "      <td>119.368957</td>\n",
              "      <td>113.951220</td>\n",
              "      <td>02499.jpg</td>\n",
              "    </tr>\n",
              "    <tr>\n",
              "      <th>1851</th>\n",
              "      <td>1851</td>\n",
              "      <td>5.400000</td>\n",
              "      <td>5.600000</td>\n",
              "      <td>125.200000</td>\n",
              "      <td>115.466667</td>\n",
              "      <td>01852.jpg</td>\n",
              "    </tr>\n",
              "    <tr>\n",
              "      <th>8128</th>\n",
              "      <td>8128</td>\n",
              "      <td>42.320000</td>\n",
              "      <td>49.386667</td>\n",
              "      <td>104.480000</td>\n",
              "      <td>86.186667</td>\n",
              "      <td>08129.jpg</td>\n",
              "    </tr>\n",
              "    <tr>\n",
              "      <th>4533</th>\n",
              "      <td>4533</td>\n",
              "      <td>5.979239</td>\n",
              "      <td>25.185984</td>\n",
              "      <td>122.906574</td>\n",
              "      <td>113.854447</td>\n",
              "      <td>04534.jpg</td>\n",
              "    </tr>\n",
              "  </tbody>\n",
              "</table>\n",
              "</div>\n",
              "    <div class=\"colab-df-buttons\">\n",
              "\n",
              "  <div class=\"colab-df-container\">\n",
              "    <button class=\"colab-df-convert\" onclick=\"convertToInteractive('df-3d98cfc5-43f7-4dbd-931b-2c369ce2f123')\"\n",
              "            title=\"Convert this dataframe to an interactive table.\"\n",
              "            style=\"display:none;\">\n",
              "\n",
              "  <svg xmlns=\"http://www.w3.org/2000/svg\" height=\"24px\" viewBox=\"0 -960 960 960\">\n",
              "    <path d=\"M120-120v-720h720v720H120Zm60-500h600v-160H180v160Zm220 220h160v-160H400v160Zm0 220h160v-160H400v160ZM180-400h160v-160H180v160Zm440 0h160v-160H620v160ZM180-180h160v-160H180v160Zm440 0h160v-160H620v160Z\"/>\n",
              "  </svg>\n",
              "    </button>\n",
              "\n",
              "  <style>\n",
              "    .colab-df-container {\n",
              "      display:flex;\n",
              "      gap: 12px;\n",
              "    }\n",
              "\n",
              "    .colab-df-convert {\n",
              "      background-color: #E8F0FE;\n",
              "      border: none;\n",
              "      border-radius: 50%;\n",
              "      cursor: pointer;\n",
              "      display: none;\n",
              "      fill: #1967D2;\n",
              "      height: 32px;\n",
              "      padding: 0 0 0 0;\n",
              "      width: 32px;\n",
              "    }\n",
              "\n",
              "    .colab-df-convert:hover {\n",
              "      background-color: #E2EBFA;\n",
              "      box-shadow: 0px 1px 2px rgba(60, 64, 67, 0.3), 0px 1px 3px 1px rgba(60, 64, 67, 0.15);\n",
              "      fill: #174EA6;\n",
              "    }\n",
              "\n",
              "    .colab-df-buttons div {\n",
              "      margin-bottom: 4px;\n",
              "    }\n",
              "\n",
              "    [theme=dark] .colab-df-convert {\n",
              "      background-color: #3B4455;\n",
              "      fill: #D2E3FC;\n",
              "    }\n",
              "\n",
              "    [theme=dark] .colab-df-convert:hover {\n",
              "      background-color: #434B5C;\n",
              "      box-shadow: 0px 1px 3px 1px rgba(0, 0, 0, 0.15);\n",
              "      filter: drop-shadow(0px 1px 2px rgba(0, 0, 0, 0.3));\n",
              "      fill: #FFFFFF;\n",
              "    }\n",
              "  </style>\n",
              "\n",
              "    <script>\n",
              "      const buttonEl =\n",
              "        document.querySelector('#df-3d98cfc5-43f7-4dbd-931b-2c369ce2f123 button.colab-df-convert');\n",
              "      buttonEl.style.display =\n",
              "        google.colab.kernel.accessAllowed ? 'block' : 'none';\n",
              "\n",
              "      async function convertToInteractive(key) {\n",
              "        const element = document.querySelector('#df-3d98cfc5-43f7-4dbd-931b-2c369ce2f123');\n",
              "        const dataTable =\n",
              "          await google.colab.kernel.invokeFunction('convertToInteractive',\n",
              "                                                    [key], {});\n",
              "        if (!dataTable) return;\n",
              "\n",
              "        const docLinkHtml = 'Like what you see? Visit the ' +\n",
              "          '<a target=\"_blank\" href=https://colab.research.google.com/notebooks/data_table.ipynb>data table notebook</a>'\n",
              "          + ' to learn more about interactive tables.';\n",
              "        element.innerHTML = '';\n",
              "        dataTable['output_type'] = 'display_data';\n",
              "        await google.colab.output.renderOutput(dataTable, element);\n",
              "        const docLink = document.createElement('div');\n",
              "        docLink.innerHTML = docLinkHtml;\n",
              "        element.appendChild(docLink);\n",
              "      }\n",
              "    </script>\n",
              "  </div>\n",
              "\n",
              "\n",
              "<div id=\"df-b7cdfa1f-8a41-4df8-9009-4711fd6d9c6c\">\n",
              "  <button class=\"colab-df-quickchart\" onclick=\"quickchart('df-b7cdfa1f-8a41-4df8-9009-4711fd6d9c6c')\"\n",
              "            title=\"Suggest charts\"\n",
              "            style=\"display:none;\">\n",
              "\n",
              "<svg xmlns=\"http://www.w3.org/2000/svg\" height=\"24px\"viewBox=\"0 0 24 24\"\n",
              "     width=\"24px\">\n",
              "    <g>\n",
              "        <path d=\"M19 3H5c-1.1 0-2 .9-2 2v14c0 1.1.9 2 2 2h14c1.1 0 2-.9 2-2V5c0-1.1-.9-2-2-2zM9 17H7v-7h2v7zm4 0h-2V7h2v10zm4 0h-2v-4h2v4z\"/>\n",
              "    </g>\n",
              "</svg>\n",
              "  </button>\n",
              "\n",
              "<style>\n",
              "  .colab-df-quickchart {\n",
              "      --bg-color: #E8F0FE;\n",
              "      --fill-color: #1967D2;\n",
              "      --hover-bg-color: #E2EBFA;\n",
              "      --hover-fill-color: #174EA6;\n",
              "      --disabled-fill-color: #AAA;\n",
              "      --disabled-bg-color: #DDD;\n",
              "  }\n",
              "\n",
              "  [theme=dark] .colab-df-quickchart {\n",
              "      --bg-color: #3B4455;\n",
              "      --fill-color: #D2E3FC;\n",
              "      --hover-bg-color: #434B5C;\n",
              "      --hover-fill-color: #FFFFFF;\n",
              "      --disabled-bg-color: #3B4455;\n",
              "      --disabled-fill-color: #666;\n",
              "  }\n",
              "\n",
              "  .colab-df-quickchart {\n",
              "    background-color: var(--bg-color);\n",
              "    border: none;\n",
              "    border-radius: 50%;\n",
              "    cursor: pointer;\n",
              "    display: none;\n",
              "    fill: var(--fill-color);\n",
              "    height: 32px;\n",
              "    padding: 0;\n",
              "    width: 32px;\n",
              "  }\n",
              "\n",
              "  .colab-df-quickchart:hover {\n",
              "    background-color: var(--hover-bg-color);\n",
              "    box-shadow: 0 1px 2px rgba(60, 64, 67, 0.3), 0 1px 3px 1px rgba(60, 64, 67, 0.15);\n",
              "    fill: var(--button-hover-fill-color);\n",
              "  }\n",
              "\n",
              "  .colab-df-quickchart-complete:disabled,\n",
              "  .colab-df-quickchart-complete:disabled:hover {\n",
              "    background-color: var(--disabled-bg-color);\n",
              "    fill: var(--disabled-fill-color);\n",
              "    box-shadow: none;\n",
              "  }\n",
              "\n",
              "  .colab-df-spinner {\n",
              "    border: 2px solid var(--fill-color);\n",
              "    border-color: transparent;\n",
              "    border-bottom-color: var(--fill-color);\n",
              "    animation:\n",
              "      spin 1s steps(1) infinite;\n",
              "  }\n",
              "\n",
              "  @keyframes spin {\n",
              "    0% {\n",
              "      border-color: transparent;\n",
              "      border-bottom-color: var(--fill-color);\n",
              "      border-left-color: var(--fill-color);\n",
              "    }\n",
              "    20% {\n",
              "      border-color: transparent;\n",
              "      border-left-color: var(--fill-color);\n",
              "      border-top-color: var(--fill-color);\n",
              "    }\n",
              "    30% {\n",
              "      border-color: transparent;\n",
              "      border-left-color: var(--fill-color);\n",
              "      border-top-color: var(--fill-color);\n",
              "      border-right-color: var(--fill-color);\n",
              "    }\n",
              "    40% {\n",
              "      border-color: transparent;\n",
              "      border-right-color: var(--fill-color);\n",
              "      border-top-color: var(--fill-color);\n",
              "    }\n",
              "    60% {\n",
              "      border-color: transparent;\n",
              "      border-right-color: var(--fill-color);\n",
              "    }\n",
              "    80% {\n",
              "      border-color: transparent;\n",
              "      border-right-color: var(--fill-color);\n",
              "      border-bottom-color: var(--fill-color);\n",
              "    }\n",
              "    90% {\n",
              "      border-color: transparent;\n",
              "      border-bottom-color: var(--fill-color);\n",
              "    }\n",
              "  }\n",
              "</style>\n",
              "\n",
              "  <script>\n",
              "    async function quickchart(key) {\n",
              "      const quickchartButtonEl =\n",
              "        document.querySelector('#' + key + ' button');\n",
              "      quickchartButtonEl.disabled = true;  // To prevent multiple clicks.\n",
              "      quickchartButtonEl.classList.add('colab-df-spinner');\n",
              "      try {\n",
              "        const charts = await google.colab.kernel.invokeFunction(\n",
              "            'suggestCharts', [key], {});\n",
              "      } catch (error) {\n",
              "        console.error('Error during call to suggestCharts:', error);\n",
              "      }\n",
              "      quickchartButtonEl.classList.remove('colab-df-spinner');\n",
              "      quickchartButtonEl.classList.add('colab-df-quickchart-complete');\n",
              "    }\n",
              "    (() => {\n",
              "      let quickchartButtonEl =\n",
              "        document.querySelector('#df-b7cdfa1f-8a41-4df8-9009-4711fd6d9c6c button');\n",
              "      quickchartButtonEl.style.display =\n",
              "        google.colab.kernel.accessAllowed ? 'block' : 'none';\n",
              "    })();\n",
              "  </script>\n",
              "</div>\n",
              "    </div>\n",
              "  </div>\n"
            ],
            "application/vnd.google.colaboratory.intrinsic+json": {
              "type": "dataframe",
              "variable_name": "X_train",
              "summary": "{\n  \"name\": \"X_train\",\n  \"rows\": 10358,\n  \"fields\": [\n    {\n      \"column\": \"Unnamed: 0\",\n      \"properties\": {\n        \"dtype\": \"number\",\n        \"std\": 2199,\n        \"min\": 0,\n        \"max\": 8143,\n        \"num_unique_values\": 7303,\n        \"samples\": [\n          1958,\n          2544,\n          1514\n        ],\n        \"semantic_type\": \"\",\n        \"description\": \"\"\n      }\n    },\n    {\n      \"column\": \"x1\",\n      \"properties\": {\n        \"dtype\": \"number\",\n        \"std\": 9.467154530367248,\n        \"min\": 0.053156146179401995,\n        \"max\": 82.72,\n        \"num_unique_values\": 3901,\n        \"samples\": [\n          6.593939393939394,\n          3.547344110854503,\n          19.32075471698113\n        ],\n        \"semantic_type\": \"\",\n        \"description\": \"\"\n      }\n    },\n    {\n      \"column\": \"y1\",\n      \"properties\": {\n        \"dtype\": \"number\",\n        \"std\": 15.561957186771036,\n        \"min\": 0.04938271604938271,\n        \"max\": 89.4070351758794,\n        \"num_unique_values\": 5889,\n        \"samples\": [\n          15.907514450867051,\n          49.152,\n          10.931129476584022\n        ],\n        \"semantic_type\": \"\",\n        \"description\": \"\"\n      }\n    },\n    {\n      \"column\": \"x2\",\n      \"properties\": {\n        \"dtype\": \"number\",\n        \"std\": 9.294862106400565,\n        \"min\": 44.900000000000006,\n        \"max\": 128.0,\n        \"num_unique_values\": 3835,\n        \"samples\": [\n          108.18782608695652,\n          114.91271820448877,\n          89.06560636182903\n        ],\n        \"semantic_type\": \"\",\n        \"description\": \"\"\n      }\n    },\n    {\n      \"column\": \"y2\",\n      \"properties\": {\n        \"dtype\": \"number\",\n        \"std\": 10.32440476468517,\n        \"min\": 57.0,\n        \"max\": 128.0,\n        \"num_unique_values\": 5204,\n        \"samples\": [\n          119.46666666666668,\n          117.16923076923077,\n          125.79310344827586\n        ],\n        \"semantic_type\": \"\",\n        \"description\": \"\"\n      }\n    },\n    {\n      \"column\": \"fname\",\n      \"properties\": {\n        \"dtype\": \"string\",\n        \"num_unique_values\": 10358,\n        \"samples\": [\n          \"05807.jpg\",\n          \"00375.jpg\",\n          \"09288.jpg\"\n        ],\n        \"semantic_type\": \"\",\n        \"description\": \"\"\n      }\n    }\n  ]\n}"
            }
          },
          "metadata": {},
          "execution_count": 39
        }
      ]
    },
    {
      "cell_type": "markdown",
      "source": [
        "#Prepare the Data for Machine Learning Algorithms\n",
        "\n",
        "Checking we have any missing value"
      ],
      "metadata": {
        "id": "5XXG2uTr7235"
      }
    },
    {
      "cell_type": "code",
      "source": [
        "sample_incomplete_rows = train_data_resized[train_data_resized.isnull().any(axis=1)].head() #maybe we don't have any missing data\n",
        "pd.set_option('display.max_columns', None)\n",
        "sample_incomplete_rows"
      ],
      "metadata": {
        "colab": {
          "base_uri": "https://localhost:8080/",
          "height": 53
        },
        "id": "9ErQKqUr6lvK",
        "outputId": "6c32a44f-1c30-43d9-bba8-751a1f7cf26d"
      },
      "execution_count": null,
      "outputs": [
        {
          "output_type": "execute_result",
          "data": {
            "text/plain": [
              "Empty DataFrame\n",
              "Columns: [Unnamed: 0, x1, y1, x2, y2, class, fname]\n",
              "Index: []"
            ],
            "text/html": [
              "\n",
              "  <div id=\"df-71de0588-39a5-4010-92c5-e8bef780f803\" class=\"colab-df-container\">\n",
              "    <div>\n",
              "<style scoped>\n",
              "    .dataframe tbody tr th:only-of-type {\n",
              "        vertical-align: middle;\n",
              "    }\n",
              "\n",
              "    .dataframe tbody tr th {\n",
              "        vertical-align: top;\n",
              "    }\n",
              "\n",
              "    .dataframe thead th {\n",
              "        text-align: right;\n",
              "    }\n",
              "</style>\n",
              "<table border=\"1\" class=\"dataframe\">\n",
              "  <thead>\n",
              "    <tr style=\"text-align: right;\">\n",
              "      <th></th>\n",
              "      <th>Unnamed: 0</th>\n",
              "      <th>x1</th>\n",
              "      <th>y1</th>\n",
              "      <th>x2</th>\n",
              "      <th>y2</th>\n",
              "      <th>class</th>\n",
              "      <th>fname</th>\n",
              "    </tr>\n",
              "  </thead>\n",
              "  <tbody>\n",
              "  </tbody>\n",
              "</table>\n",
              "</div>\n",
              "    <div class=\"colab-df-buttons\">\n",
              "\n",
              "  <div class=\"colab-df-container\">\n",
              "    <button class=\"colab-df-convert\" onclick=\"convertToInteractive('df-71de0588-39a5-4010-92c5-e8bef780f803')\"\n",
              "            title=\"Convert this dataframe to an interactive table.\"\n",
              "            style=\"display:none;\">\n",
              "\n",
              "  <svg xmlns=\"http://www.w3.org/2000/svg\" height=\"24px\" viewBox=\"0 -960 960 960\">\n",
              "    <path d=\"M120-120v-720h720v720H120Zm60-500h600v-160H180v160Zm220 220h160v-160H400v160Zm0 220h160v-160H400v160ZM180-400h160v-160H180v160Zm440 0h160v-160H620v160ZM180-180h160v-160H180v160Zm440 0h160v-160H620v160Z\"/>\n",
              "  </svg>\n",
              "    </button>\n",
              "\n",
              "  <style>\n",
              "    .colab-df-container {\n",
              "      display:flex;\n",
              "      gap: 12px;\n",
              "    }\n",
              "\n",
              "    .colab-df-convert {\n",
              "      background-color: #E8F0FE;\n",
              "      border: none;\n",
              "      border-radius: 50%;\n",
              "      cursor: pointer;\n",
              "      display: none;\n",
              "      fill: #1967D2;\n",
              "      height: 32px;\n",
              "      padding: 0 0 0 0;\n",
              "      width: 32px;\n",
              "    }\n",
              "\n",
              "    .colab-df-convert:hover {\n",
              "      background-color: #E2EBFA;\n",
              "      box-shadow: 0px 1px 2px rgba(60, 64, 67, 0.3), 0px 1px 3px 1px rgba(60, 64, 67, 0.15);\n",
              "      fill: #174EA6;\n",
              "    }\n",
              "\n",
              "    .colab-df-buttons div {\n",
              "      margin-bottom: 4px;\n",
              "    }\n",
              "\n",
              "    [theme=dark] .colab-df-convert {\n",
              "      background-color: #3B4455;\n",
              "      fill: #D2E3FC;\n",
              "    }\n",
              "\n",
              "    [theme=dark] .colab-df-convert:hover {\n",
              "      background-color: #434B5C;\n",
              "      box-shadow: 0px 1px 3px 1px rgba(0, 0, 0, 0.15);\n",
              "      filter: drop-shadow(0px 1px 2px rgba(0, 0, 0, 0.3));\n",
              "      fill: #FFFFFF;\n",
              "    }\n",
              "  </style>\n",
              "\n",
              "    <script>\n",
              "      const buttonEl =\n",
              "        document.querySelector('#df-71de0588-39a5-4010-92c5-e8bef780f803 button.colab-df-convert');\n",
              "      buttonEl.style.display =\n",
              "        google.colab.kernel.accessAllowed ? 'block' : 'none';\n",
              "\n",
              "      async function convertToInteractive(key) {\n",
              "        const element = document.querySelector('#df-71de0588-39a5-4010-92c5-e8bef780f803');\n",
              "        const dataTable =\n",
              "          await google.colab.kernel.invokeFunction('convertToInteractive',\n",
              "                                                    [key], {});\n",
              "        if (!dataTable) return;\n",
              "\n",
              "        const docLinkHtml = 'Like what you see? Visit the ' +\n",
              "          '<a target=\"_blank\" href=https://colab.research.google.com/notebooks/data_table.ipynb>data table notebook</a>'\n",
              "          + ' to learn more about interactive tables.';\n",
              "        element.innerHTML = '';\n",
              "        dataTable['output_type'] = 'display_data';\n",
              "        await google.colab.output.renderOutput(dataTable, element);\n",
              "        const docLink = document.createElement('div');\n",
              "        docLink.innerHTML = docLinkHtml;\n",
              "        element.appendChild(docLink);\n",
              "      }\n",
              "    </script>\n",
              "  </div>\n",
              "\n",
              "    </div>\n",
              "  </div>\n"
            ],
            "application/vnd.google.colaboratory.intrinsic+json": {
              "type": "dataframe",
              "variable_name": "sample_incomplete_rows",
              "repr_error": "Out of range float values are not JSON compliant: nan"
            }
          },
          "metadata": {},
          "execution_count": 40
        }
      ]
    },
    {
      "cell_type": "markdown",
      "source": [
        "#Calculate the width and height of Bounding Boxes"
      ],
      "metadata": {
        "id": "4GE6r4j08ERz"
      }
    },
    {
      "cell_type": "code",
      "source": [
        "# Calculate width of bounding boxes\n",
        "train_data_resized['bbox_width'] = train_data_resized['x2'] - train_data_resized['x1']\n",
        "\n",
        "# Calculate height of bounding boxes\n",
        "train_data_resized['bbox_height'] = train_data_resized['y2'] - train_data_resized['y1']\n",
        "\n",
        "# Print the first few rows to verify the new features\n",
        "print(train_data_resized[['bbox_width', 'bbox_height']].head())"
      ],
      "metadata": {
        "colab": {
          "base_uri": "https://localhost:8080/"
        },
        "id": "vbD5FBh17_A8",
        "outputId": "2ae241fa-d2a8-41df-bad3-74c4d78f21b9"
      },
      "execution_count": null,
      "outputs": [
        {
          "output_type": "stream",
          "name": "stdout",
          "text": [
            "   bbox_width  bbox_height\n",
            "0  113.066667    82.880000\n",
            "1  118.328889    89.315556\n",
            "2  103.200000    72.533333\n",
            "3   52.601905    64.923521\n",
            "4  105.777778    74.666667\n"
          ]
        }
      ]
    },
    {
      "cell_type": "markdown",
      "source": [
        "#Calculate summary statistics for numerical features to determine should we apply Normalization and Standardization\n"
      ],
      "metadata": {
        "id": "Spk0Ggzl8It8"
      }
    },
    {
      "cell_type": "code",
      "source": [
        "# Calculate summary statistics for numerical features\n",
        "summary_statistics = train_data_resized.describe()\n",
        "\n",
        "# Print summary statistics to check the scale of features\n",
        "# print(summary_statistics)"
      ],
      "metadata": {
        "id": "67ao_TAX8GSy"
      },
      "execution_count": null,
      "outputs": []
    },
    {
      "cell_type": "markdown",
      "source": [
        "### Cropping the images using bounding boxes and separating the images into their respective folders accoringly.\n",
        "\n",
        "> This step helps in training the transfer learning model much easier."
      ],
      "metadata": {
        "id": "NmpSXag89RLX"
      }
    },
    {
      "cell_type": "code",
      "source": [
        "!rm -r DataSet/cropped_images/"
      ],
      "metadata": {
        "id": "r79_4JD4oE9W",
        "colab": {
          "base_uri": "https://localhost:8080/"
        },
        "outputId": "7589cd6f-3d78-4729-e9da-b430495882d3"
      },
      "execution_count": null,
      "outputs": [
        {
          "output_type": "stream",
          "name": "stdout",
          "text": [
            "rm: cannot remove 'DataSet/cropped_images/': No such file or directory\n"
          ]
        }
      ]
    },
    {
      "cell_type": "code",
      "source": [
        "# Image Cropper Function\n",
        "def ImageCropper(save_path, class_name, image_path, x1, y1,x2, y2):\n",
        "  im = Image.open(image_path);\n",
        "  croppedImage = im.crop((x1, y1, x2, y2))\n",
        "\n",
        "  # print(\"Cropping Finished\")\n",
        "  filename = os.path.basename(image_path)\n",
        "  # class_image_save_path = save_path + \"/\" + str(class_name) + \"/\" # this line separates all the images to separate folders according to the class no.\n",
        "  class_image_save_path = save_path + \"/\"\n",
        "\n",
        "  # print(class_image_save_path+filename)\n",
        "\n",
        "  #save the resized image\n",
        "  if not os.path.exists(class_image_save_path):\n",
        "    os.makedirs(class_image_save_path)\n",
        "\n",
        "  croppedImage.save(os.path.join(class_image_save_path, filename))"
      ],
      "metadata": {
        "id": "J4N1WPXE8Kkq"
      },
      "execution_count": null,
      "outputs": []
    },
    {
      "cell_type": "code",
      "source": [
        "save_path ='DataSet/cropped_images' #setting a custom path for storing the resized data\n",
        "\n",
        "# process each image - cropping\n",
        "for index, row in train_data.iterrows():\n",
        "\n",
        "  # Call the image cropper function\n",
        "  ImageCropper(save_path, train_data['class'][index] , dataset_image_folder + train_data['fname'][index], train_data['x1'][index], train_data['y1'][index], train_data['x2'][index], train_data['y2'][index])\n",
        "\n",
        "\n",
        "\n"
      ],
      "metadata": {
        "id": "CTSe4-j-BjtT"
      },
      "execution_count": null,
      "outputs": []
    },
    {
      "cell_type": "markdown",
      "source": [
        "# Load all the Images to start traning\n"
      ],
      "metadata": {
        "id": "OiA2dqQog3aN"
      }
    },
    {
      "cell_type": "code",
      "source": [
        "import cv2  # Or from PIL import Image  if using Pillow\n",
        "from tensorflow.keras.preprocessing.image import ImageDataGenerator"
      ],
      "metadata": {
        "id": "ljlibckWg3Gr"
      },
      "execution_count": null,
      "outputs": []
    },
    {
      "cell_type": "markdown",
      "source": [
        "Define data paths"
      ],
      "metadata": {
        "id": "YnJC0eawivz7"
      }
    },
    {
      "cell_type": "code",
      "source": [
        "image_train_data_dir = \"DataSet/cropped_images/\"\n",
        "# test_data_dir = \"\" # let's redefine it later"
      ],
      "metadata": {
        "id": "E2RWn2sAg8_m"
      },
      "execution_count": null,
      "outputs": []
    },
    {
      "cell_type": "code",
      "source": [
        "def load_image(filepath, target_size=(224, 224)):  # Adjust target size if needed\n",
        "    img = cv2.imread(filepath)  # Or img = Image.open(filepath) for Pillow\n",
        "    img = cv2.cvtColor(img, cv2.COLOR_BGR2RGB)  # Convert to RGB if using OpenCV\n",
        "    img = cv2.resize(img, target_size)\n",
        "    return img"
      ],
      "metadata": {
        "id": "XQwQO-3Ui2lI"
      },
      "execution_count": null,
      "outputs": []
    },
    {
      "cell_type": "markdown",
      "source": [
        "### Prepare Training Data\n",
        "\n",
        "Creating a dictionary to map image filenames to their corresponding class labels"
      ],
      "metadata": {
        "id": "SXLwaZdQsWO2"
      }
    },
    {
      "cell_type": "code",
      "source": [
        "image_label_map = dict(zip(train_data[\"fname\"], train_data[\"class\"]))  # Adjust column names if needed\n"
      ],
      "metadata": {
        "id": "ouez78UdsfMM"
      },
      "execution_count": null,
      "outputs": []
    },
    {
      "cell_type": "markdown",
      "source": [
        "###  Data Augmentation (Highly Recommended):\n",
        "\n",
        "Create an ImageDataGenerator object to perform on-the-fly data augmentation during training, which helps prevent overfitting and improve model generalization\n",
        "\n",
        "perform Data Augmentation"
      ],
      "metadata": {
        "id": "1oEqFXT9i-Ja"
      }
    },
    {
      "cell_type": "code",
      "source": [
        "train_datagen = ImageDataGenerator(\n",
        "    rescale=1./255,  # Normalize pixel values to [0, 1]\n",
        "    shear_range=0.2,\n",
        "    zoom_range=0.2,\n",
        "    horizontal_flip=True,\n",
        "    validation_split=0.2  # Split 20% for validation (optional)\n",
        ")"
      ],
      "metadata": {
        "id": "_P-6dxRDi9do"
      },
      "execution_count": null,
      "outputs": []
    },
    {
      "cell_type": "markdown",
      "source": [
        "### Load and Augment Training Data:\n",
        "\n",
        "Use train_datagen.flow_from_directory to automatically load, preprocess, and augment images from your training directory:\n",
        "\n",
        "Use train_datagen.flow_from_dataframe to generate batches of images and labels from your DataFrame:"
      ],
      "metadata": {
        "id": "3oUYmvqUjFPQ"
      }
    },
    {
      "cell_type": "code",
      "source": [
        "train_generator = train_datagen.flow_from_directory(\n",
        "    image_train_data_dir,\n",
        "    target_size=(224, 224),  # Adjust target size if needed\n",
        "    batch_size=32,  # Adjust batch size as needed\n",
        "    class_mode='categorical',  # Multi-class classification\n",
        "    subset='training'  # Use 'validation' for validation split\n",
        ")"
      ],
      "metadata": {
        "colab": {
          "base_uri": "https://localhost:8080/"
        },
        "id": "XrVn00CFjE9A",
        "outputId": "fc1690e2-9ff1-41a7-97f1-1c41a169b61c"
      },
      "execution_count": null,
      "outputs": [
        {
          "output_type": "stream",
          "name": "stdout",
          "text": [
            "Found 0 images belonging to 0 classes.\n"
          ]
        }
      ]
    },
    {
      "cell_type": "code",
      "source": [
        "# Convert \"class\" column to string before using flow_from_dataframe\n",
        "train_data['class'] = train_data['class'].astype(str)"
      ],
      "metadata": {
        "id": "-tWTY0dBtisa"
      },
      "execution_count": null,
      "outputs": []
    },
    {
      "cell_type": "code",
      "source": [
        "train_generator = train_datagen.flow_from_dataframe(\n",
        "    dataframe=train_data,\n",
        "    directory=image_train_data_dir,  # Point to the image directory\n",
        "    x_col=\"fname\",  # Column containing image filenames (adjust if needed)\n",
        "    y_col=\"class\",  # Column containing class labels (adjust if needed)\n",
        "    target_size=(224, 224),  # Adjust target size if needed\n",
        "    batch_size=32,  # Adjust batch size as needed\n",
        "    class_mode='categorical',  # Multi-class classification\n",
        "    shuffle=True,  # Shuffle data for better training\n",
        "    function=load_image  # Use the custom load_image function\n",
        ")"
      ],
      "metadata": {
        "colab": {
          "base_uri": "https://localhost:8080/"
        },
        "id": "iV3tWoMMtA9A",
        "outputId": "824b2ee8-a700-4d37-a4b7-da5e124eb485"
      },
      "execution_count": null,
      "outputs": [
        {
          "output_type": "stream",
          "name": "stdout",
          "text": [
            "Found 12948 validated image filenames belonging to 196 classes.\n"
          ]
        }
      ]
    },
    {
      "cell_type": "markdown",
      "source": [
        "# PENDING FROM HERE"
      ],
      "metadata": {
        "id": "qxyiTsQHjTXk"
      }
    },
    {
      "cell_type": "markdown",
      "source": [
        "## Imporing ResNet50 to the Transfer learning as the training data for each class is minimal in our dataset"
      ],
      "metadata": {
        "id": "xpKajCjhfc06"
      }
    },
    {
      "cell_type": "code",
      "source": [
        "from tensorflow.keras.applications import ResNet50\n",
        "from tensorflow.keras.layers import Dense, Dropout, Flatten\n",
        "from tensorflow.keras.models import Model\n"
      ],
      "metadata": {
        "id": "LCyog2mzlJfc"
      },
      "execution_count": null,
      "outputs": []
    },
    {
      "cell_type": "code",
      "source": [
        "# Load the pre-trained ResNet50 model, excluding the top (classification) layer\n",
        "base_model = ResNet50(weights='imagenet', include_top=False, input_shape=(224, 224, 3))\n"
      ],
      "metadata": {
        "colab": {
          "base_uri": "https://localhost:8080/"
        },
        "id": "hU0SH2BofnES",
        "outputId": "bb0bf159-2b2c-41e4-fc98-5781e49f762f"
      },
      "execution_count": null,
      "outputs": [
        {
          "output_type": "stream",
          "name": "stdout",
          "text": [
            "Downloading data from https://storage.googleapis.com/tensorflow/keras-applications/resnet/resnet50_weights_tf_dim_ordering_tf_kernels_notop.h5\n",
            "94765736/94765736 [==============================] - 1s 0us/step\n"
          ]
        }
      ]
    },
    {
      "cell_type": "code",
      "source": [
        "# Freeze the base model layers (optional, adjust as needed)\n",
        "base_model.trainable = False"
      ],
      "metadata": {
        "id": "ZHfRySvmfzSn"
      },
      "execution_count": null,
      "outputs": []
    },
    {
      "cell_type": "code",
      "source": [
        "# Add your custom layers for car make/model classification\n",
        "x = base_model.output\n",
        "x = Flatten()(x)\n",
        "x = Dense(1024, activation='relu')(x)\n",
        "x = Dropout(0.5)(x)\n",
        "predictions = Dense(196, activation='softmax')(x)"
      ],
      "metadata": {
        "id": "qbusQUWYf2sG"
      },
      "execution_count": null,
      "outputs": []
    },
    {
      "cell_type": "code",
      "source": [
        "# Create the final model\n",
        "model = Model(inputs=base_model.input, outputs=predictions)"
      ],
      "metadata": {
        "id": "ewrXj0vwf-Ip"
      },
      "execution_count": null,
      "outputs": []
    },
    {
      "cell_type": "code",
      "source": [
        "# Compile the model for training with your specific optimizer and loss function\n",
        "model.compile(optimizer='adam', loss='categorical_crossentropy', metrics=['accuracy'])\n"
      ],
      "metadata": {
        "id": "Qu0tEbUugABC"
      },
      "execution_count": null,
      "outputs": []
    },
    {
      "cell_type": "code",
      "source": [
        "# Train the model on your car image dataset (data preparation not shown here)\n",
        "# model.fit(train_generator, your_training_labels, epochs=10)"
      ],
      "metadata": {
        "id": "Vgs-K7z9gCtG"
      },
      "execution_count": null,
      "outputs": []
    },
    {
      "cell_type": "code",
      "source": [
        "# Use the trained model for car make/model prediction on new images\n",
        "# predictions = model.predict(your_new_image)"
      ],
      "metadata": {
        "id": "oz_BBOAtgGqU"
      },
      "execution_count": null,
      "outputs": []
    },
    {
      "cell_type": "code",
      "source": [
        "# Train the model on the training data\n",
        "model.fit(\n",
        "    train_generator,\n",
        "    epochs=10,  # Adjust the number of epochs as needed\n",
        "    steps_per_epoch=len(train_generator)  # Adjust if using validation split\n",
        ")"
      ],
      "metadata": {
        "colab": {
          "base_uri": "https://localhost:8080/"
        },
        "id": "jJ9AahNggJ9k",
        "outputId": "6801b6c2-5c11-4bd1-a940-a42f24244bd2"
      },
      "execution_count": null,
      "outputs": [
        {
          "output_type": "stream",
          "name": "stdout",
          "text": [
            "Epoch 1/10\n",
            "405/405 [==============================] - 191s 448ms/step - loss: 5.7296 - accuracy: 0.0060\n",
            "Epoch 2/10\n",
            "405/405 [==============================] - 181s 447ms/step - loss: 5.2860 - accuracy: 0.0087\n",
            "Epoch 3/10\n",
            "405/405 [==============================] - 179s 441ms/step - loss: 5.2890 - accuracy: 0.0089\n",
            "Epoch 4/10\n",
            "405/405 [==============================] - 178s 441ms/step - loss: 5.2859 - accuracy: 0.0089\n",
            "Epoch 5/10\n",
            "405/405 [==============================] - 178s 439ms/step - loss: 5.2809 - accuracy: 0.0089\n",
            "Epoch 6/10\n",
            "405/405 [==============================] - 178s 438ms/step - loss: 5.2807 - accuracy: 0.0088\n",
            "Epoch 7/10\n",
            "405/405 [==============================] - 178s 439ms/step - loss: 5.2735 - accuracy: 0.0089\n",
            "Epoch 8/10\n",
            "405/405 [==============================] - 179s 442ms/step - loss: 5.2751 - accuracy: 0.0090\n",
            "Epoch 9/10\n",
            "405/405 [==============================] - 183s 450ms/step - loss: 5.2759 - accuracy: 0.0090\n",
            "Epoch 10/10\n",
            "118/405 [=======>......................] - ETA: 2:08 - loss: 5.2724 - accuracy: 0.0069"
          ]
        }
      ]
    },
    {
      "cell_type": "markdown",
      "source": [
        "> **NOTE:** It is best to have validation set for evaluating the performance"
      ],
      "metadata": {
        "id": "hhTLq07yu7cq"
      }
    }
  ],
  "metadata": {
    "colab": {
      "provenance": [],
      "include_colab_link": true
    },
    "kernelspec": {
      "display_name": "Python 3",
      "name": "python3"
    },
    "language_info": {
      "name": "python"
    }
  },
  "nbformat": 4,
  "nbformat_minor": 0
}